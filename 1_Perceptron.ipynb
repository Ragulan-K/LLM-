{
  "nbformat": 4,
  "nbformat_minor": 0,
  "metadata": {
    "colab": {
      "provenance": [],
      "authorship_tag": "ABX9TyMwN0KJAJK0CAH9O9HTOCar",
      "include_colab_link": true
    },
    "kernelspec": {
      "name": "python3",
      "display_name": "Python 3"
    },
    "language_info": {
      "name": "python"
    }
  },
  "cells": [
    {
      "cell_type": "markdown",
      "metadata": {
        "id": "view-in-github",
        "colab_type": "text"
      },
      "source": [
        "<a href=\"https://colab.research.google.com/github/Ragulan-K/LLM-/blob/main/1_Perceptron.ipynb\" target=\"_parent\"><img src=\"https://colab.research.google.com/assets/colab-badge.svg\" alt=\"Open In Colab\"/></a>"
      ]
    },
    {
      "cell_type": "markdown",
      "source": [
        "#Importing Libraries"
      ],
      "metadata": {
        "id": "gh8YKFk4cqNC"
      }
    },
    {
      "cell_type": "code",
      "execution_count": 9,
      "metadata": {
        "id": "xQcbpvoHcjgJ"
      },
      "outputs": [],
      "source": [
        "from numpy import array #For array Initialization\n",
        "from numpy import random #For Randomly choosing numbers\n",
        "from numpy import dot #For doing dot product\n",
        "from random import choice"
      ]
    },
    {
      "cell_type": "markdown",
      "source": [
        "#Activation Function"
      ],
      "metadata": {
        "id": "IBZIPlyFdkwT"
      }
    },
    {
      "cell_type": "code",
      "source": [
        "activationFn = lambda x: 0 if x<0 else 1 #Step activation function (if i/p is negative o/p is 0)"
      ],
      "metadata": {
        "id": "umO_UmnSdpF0"
      },
      "execution_count": 2,
      "outputs": []
    },
    {
      "cell_type": "markdown",
      "source": [
        "#Initializing dataset"
      ],
      "metadata": {
        "id": "-66qan5EfM6Y"
      }
    },
    {
      "cell_type": "code",
      "source": [
        "dataset=[\n",
        "    (array([0,0,1]),0),   #array([x,y,b],e) x,y=Input , b=bias ,e=Expected O/P to validate\n",
        "    (array([0,1,1]),1),\n",
        "    (array([1,0,1]),1),\n",
        "    (array([1,1,1]),1),\n",
        "\n",
        "]\n",
        "print(dataset)"
      ],
      "metadata": {
        "colab": {
          "base_uri": "https://localhost:8080/"
        },
        "id": "RUrUpbSefQbC",
        "outputId": "9d28cf22-00b4-46f7-d98c-316c73acea64"
      },
      "execution_count": 4,
      "outputs": [
        {
          "output_type": "stream",
          "name": "stdout",
          "text": [
            "[(array([0, 0, 1]), 0), (array([0, 1, 1]), 1), (array([1, 0, 1]), 1), (array([1, 1, 1]), 1)]\n"
          ]
        }
      ]
    },
    {
      "cell_type": "markdown",
      "source": [
        "#Initializing Random numbers for Weights"
      ],
      "metadata": {
        "id": "ZUxX8pl9ho5z"
      }
    },
    {
      "cell_type": "code",
      "source": [
        "weights=random.rand(3)\n",
        "weights"
      ],
      "metadata": {
        "colab": {
          "base_uri": "https://localhost:8080/"
        },
        "id": "-CysNS_UhyC4",
        "outputId": "51db682a-3593-4b4d-bba8-d765fee88f40"
      },
      "execution_count": 7,
      "outputs": [
        {
          "output_type": "execute_result",
          "data": {
            "text/plain": [
              "array([0.13475565, 0.23377467, 0.67224098])"
            ]
          },
          "metadata": {},
          "execution_count": 7
        }
      ]
    },
    {
      "cell_type": "markdown",
      "source": [
        "#Initializing additional variables"
      ],
      "metadata": {
        "id": "KEQ7ve73h3Jd"
      }
    },
    {
      "cell_type": "code",
      "source": [
        "r=0.2 #Learning rate\n",
        "n=100 #Number of iteration"
      ],
      "metadata": {
        "id": "S3tIRLxJh8MW"
      },
      "execution_count": 8,
      "outputs": []
    },
    {
      "cell_type": "markdown",
      "source": [
        "#Training the model"
      ],
      "metadata": {
        "id": "3Z1wENAmjtgB"
      }
    },
    {
      "cell_type": "code",
      "source": [
        "for j in range(n):\n",
        "  x,expected=choice(dataset) #random input set,Includes repeated numbers\n",
        "  #print(x,expected)\n",
        "  result=dot(weights,x) #dot product of the input and the weight vectors\n",
        "  err=expected-activationFn(result)\n",
        "  weights+=r*err*x #calculate the correction factor, added to weights to improve o/p in next iteration\n",
        "  #if the expected value is bigger , the weights should be increased, and if expected value is smaller ,the weights should be decreased"
      ],
      "metadata": {
        "id": "kHue7sVmj9_X"
      },
      "execution_count": 10,
      "outputs": []
    },
    {
      "cell_type": "markdown",
      "source": [
        "#Evaluating Model"
      ],
      "metadata": {
        "id": "4HBeUL4xnGR6"
      }
    },
    {
      "cell_type": "code",
      "source": [
        "for x,_ in dataset:\n",
        "  result=dot(x,weights)\n",
        "  print(\"Input:{} ResultBAFn:{} ResultAFn:{}\".format(x[:2],round(result,3),activationFn(result)))"
      ],
      "metadata": {
        "colab": {
          "base_uri": "https://localhost:8080/"
        },
        "id": "GjLG18XFnJ78",
        "outputId": "d62c54b5-e5ff-412b-90b1-67f183e81f30"
      },
      "execution_count": 11,
      "outputs": [
        {
          "output_type": "stream",
          "name": "stdout",
          "text": [
            "Input:[0 0] ResultBAFn:-0.128 ResultAFn:0\n",
            "Input:[0 1] ResultBAFn:0.106 ResultAFn:1\n",
            "Input:[1 0] ResultBAFn:0.007 ResultAFn:1\n",
            "Input:[1 1] ResultBAFn:0.241 ResultAFn:1\n"
          ]
        }
      ]
    }
  ]
}